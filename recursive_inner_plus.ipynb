{
 "cells": [
  {
   "cell_type": "code",
   "execution_count": null,
   "id": "a3c13f24",
   "metadata": {},
   "outputs": [],
   "source": [
    "\"\"\"\n",
    "Write the a python program that, given an input list of any level of complexity/nestedness, \n",
    "will return the inner most list plus 1. This is to be done with recursion. \n",
    "Note: the input will contain only integers or lists. \n",
    "\"\"\""
   ]
  },
  {
   "cell_type": "code",
   "execution_count": 10,
   "id": "d45da2d8",
   "metadata": {},
   "outputs": [
    {
     "name": "stdout",
     "output_type": "stream",
     "text": [
      "[1, 2, 3, 4, [5, 6, 7, [8, 9]]]\n"
     ]
    }
   ],
   "source": [
    "#input any list here\n",
    "input_list= [1,2,3,4,[5,6,7,[8,9]]]\n",
    "print(input_list)"
   ]
  },
  {
   "cell_type": "code",
   "execution_count": 11,
   "id": "efdfd4f3",
   "metadata": {},
   "outputs": [],
   "source": [
    "# creat a recursion function to find the inner list\n",
    "def find_inner_rec(input_list):\n",
    "    for x in input_list: \n",
    "        if isinstance(x,list): \n",
    "            return find_inner_rec(x)\n",
    "#now add one to the inner list\n",
    "    return [x+1 for x in input_list]"
   ]
  },
  {
   "cell_type": "code",
   "execution_count": 9,
   "id": "f84a8745",
   "metadata": {},
   "outputs": [
    {
     "name": "stdout",
     "output_type": "stream",
     "text": [
      "[9, 10]\n"
     ]
    }
   ],
   "source": [
    "print(find_inner_rec(input_list))"
   ]
  }
 ],
 "metadata": {
  "kernelspec": {
   "display_name": "bmifall2025",
   "language": "python",
   "name": "python3"
  },
  "language_info": {
   "codemirror_mode": {
    "name": "ipython",
    "version": 3
   },
   "file_extension": ".py",
   "mimetype": "text/x-python",
   "name": "python",
   "nbconvert_exporter": "python",
   "pygments_lexer": "ipython3",
   "version": "3.13.5"
  }
 },
 "nbformat": 4,
 "nbformat_minor": 5
}
