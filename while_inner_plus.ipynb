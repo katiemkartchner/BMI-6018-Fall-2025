{
 "cells": [
  {
   "cell_type": "code",
   "execution_count": null,
   "id": "cfbe3be5",
   "metadata": {},
   "outputs": [],
   "source": [
    "\"\"\"\n",
    "Write a python program that, given an input list of any level of complexity/nestedness, will return the inner most list plus 1. \n",
    "This is to be done with a while loop. Note: the input will contain only integers or lists. \n",
    "As an example:\n",
    "\n",
    "input_list = [1,2,3,4,[5,6,7,[8,9]]]\n",
    "\n",
    "your_py_program.py input_list\n",
    "\n",
    "will produce:\n",
    "\n",
    "[9,10]\n",
    "\n",
    "That is [8, 9] (the inner most list) plus 1 -> [9, 10]\n",
    "\"\"\" "
   ]
  },
  {
   "cell_type": "code",
   "execution_count": 19,
   "id": "7cb6674c",
   "metadata": {},
   "outputs": [
    {
     "name": "stdout",
     "output_type": "stream",
     "text": [
      "[1, 2, 3, 4, [5, 6, 7, [8, 9]]]\n"
     ]
    }
   ],
   "source": [
    "#change value of list to any list\n",
    "input_list = [1,2,3,4,[5,6,7,[8,9]]]\n",
    "print(input_list)"
   ]
  },
  {
   "cell_type": "code",
   "execution_count": 20,
   "id": "595c2a1e",
   "metadata": {},
   "outputs": [],
   "source": [
    "#while loop function called find_inner will find the inner most list within the list\n",
    "def find_inner(input_list): \n",
    "    current_list=input_list\n",
    "    #here we need to identify the first nested list\n",
    "    while any(isinstance(x, list) for x in current_list):\n",
    "        for x in current_list:\n",
    "            if isinstance(x, list):\n",
    "                current_list= x\n",
    "                #current_list is now the inner most list so we break\n",
    "                break\n",
    "        #need to add 1 to the inner most list\n",
    "    return [x + 1 for x in current_list]"
   ]
  },
  {
   "cell_type": "code",
   "execution_count": 21,
   "id": "e85dbefb",
   "metadata": {},
   "outputs": [
    {
     "name": "stdout",
     "output_type": "stream",
     "text": [
      "[9, 10]\n"
     ]
    }
   ],
   "source": [
    "print(find_inner(input_list)) "
   ]
  }
 ],
 "metadata": {
  "kernelspec": {
   "display_name": "bmifall2025",
   "language": "python",
   "name": "python3"
  },
  "language_info": {
   "codemirror_mode": {
    "name": "ipython",
    "version": 3
   },
   "file_extension": ".py",
   "mimetype": "text/x-python",
   "name": "python",
   "nbconvert_exporter": "python",
   "pygments_lexer": "ipython3",
   "version": "3.13.5"
  }
 },
 "nbformat": 4,
 "nbformat_minor": 5
}
