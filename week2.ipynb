{
 "cells": [
  {
   "cell_type": "code",
   "execution_count": null,
   "id": "21b61c7f",
   "metadata": {},
   "outputs": [
    {
     "data": {
      "text/plain": [
       "2"
      ]
     },
     "execution_count": 12,
     "metadata": {},
     "output_type": "execute_result"
    }
   ],
   "source": [
    "#Question 1 (Booleans)\n",
    "True+True-False"
   ]
  },
  {
   "cell_type": "code",
   "execution_count": null,
   "id": "2e5da96d",
   "metadata": {},
   "outputs": [
    {
     "name": "stdout",
     "output_type": "stream",
     "text": [
      "1\n"
     ]
    }
   ],
   "source": [
    "#Question 2 (Booleans 2)\n",
    "tracker = True\n",
    "\n",
    "tracker = tracker & tracker\n",
    "\n",
    "tracker = tracker | (tracker - tracker)\n",
    "print(tracker)"
   ]
  },
  {
   "cell_type": "code",
   "execution_count": null,
   "id": "63840bd8",
   "metadata": {},
   "outputs": [
    {
     "data": {
      "text/plain": [
       "' '"
      ]
     },
     "execution_count": 19,
     "metadata": {},
     "output_type": "execute_result"
    }
   ],
   "source": [
    "#Question 5 (Strings)\n",
    "string = \"E. Coli\"\n",
    "\n",
    "string[2]"
   ]
  },
  {
   "cell_type": "code",
   "execution_count": null,
   "id": "ed93266b",
   "metadata": {},
   "outputs": [
    {
     "ename": "TypeError",
     "evalue": "'str' object does not support item assignment",
     "output_type": "error",
     "traceback": [
      "\u001b[31m---------------------------------------------------------------------------\u001b[39m",
      "\u001b[31mTypeError\u001b[39m                                 Traceback (most recent call last)",
      "\u001b[36mCell\u001b[39m\u001b[36m \u001b[39m\u001b[32mIn[20]\u001b[39m\u001b[32m, line 4\u001b[39m\n\u001b[32m      1\u001b[39m \u001b[38;5;66;03m#Question 6\u001b[39;00m\n\u001b[32m      2\u001b[39m string = \u001b[33m\"\u001b[39m\u001b[33mI Bove python\u001b[39m\u001b[33m\"\u001b[39m\n\u001b[32m----> \u001b[39m\u001b[32m4\u001b[39m string[\u001b[32m2\u001b[39m]=\u001b[33m\"\u001b[39m\u001b[33mL\u001b[39m\u001b[33m\"\u001b[39m\n",
      "\u001b[31mTypeError\u001b[39m: 'str' object does not support item assignment"
     ]
    }
   ],
   "source": [
    "#Question 6 (Strings 2)\n",
    "string = \"I Bove python\"\n",
    "\n",
    "string[2]=\"L\""
   ]
  },
  {
   "cell_type": "code",
   "execution_count": 22,
   "id": "51efb7ef",
   "metadata": {},
   "outputs": [
    {
     "name": "stdout",
     "output_type": "stream",
     "text": [
      "<class 'int'>\n"
     ]
    }
   ],
   "source": [
    "#Question7\n",
    "medication=5\n",
    "print(type(medication))\n",
    "#after you run the code it prints out: <class 'int'>"
   ]
  },
  {
   "cell_type": "code",
   "execution_count": null,
   "id": "10b5978a",
   "metadata": {},
   "outputs": [
    {
     "name": "stdout",
     "output_type": "stream",
     "text": [
      "24.034609838166958\n"
     ]
    }
   ],
   "source": [
    "#Question8\n",
    "w=60.0\n",
    "h=1.58\n",
    "bmi=w/(h**2)\n",
    "print(bmi)\n",
    "#answer is Susan's BMI is 24.034609838166958"
   ]
  },
  {
   "cell_type": "code",
   "execution_count": null,
   "id": "93bb2d1f",
   "metadata": {},
   "outputs": [
    {
     "name": "stdout",
     "output_type": "stream",
     "text": [
      "3\n",
      "hellohola\n"
     ]
    }
   ],
   "source": [
    "#Question 9 (Operators 2)\n",
    "a=1\n",
    "b=2\n",
    "c=\"hello\"\n",
    "d=\"hola\"\n",
    "print(a+b)\n",
    "print(c+d)\n",
    "#when you run this code it will output: \n",
    "# 3\n",
    "#hellohola\n"
   ]
  },
  {
   "cell_type": "code",
   "execution_count": null,
   "id": "c1476bdb",
   "metadata": {},
   "outputs": [
    {
     "name": "stdout",
     "output_type": "stream",
     "text": [
      "3\n",
      "73\n"
     ]
    }
   ],
   "source": [
    "#Question 10 (String 3)\n",
    "a=1\n",
    "b=2\n",
    "c=\"7\"\n",
    "d=\"3\"\n",
    "print(a+b)\n",
    "print(c+d)\n",
    "#when you run this code it will output:\n",
    "# 3\n",
    "#73"
   ]
  }
 ],
 "metadata": {
  "kernelspec": {
   "display_name": "bmifall2025",
   "language": "python",
   "name": "python3"
  },
  "language_info": {
   "codemirror_mode": {
    "name": "ipython",
    "version": 3
   },
   "file_extension": ".py",
   "mimetype": "text/x-python",
   "name": "python",
   "nbconvert_exporter": "python",
   "pygments_lexer": "ipython3",
   "version": "3.13.5"
  }
 },
 "nbformat": 4,
 "nbformat_minor": 5
}
