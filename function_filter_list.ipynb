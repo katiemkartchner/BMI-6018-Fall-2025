{
 "cells": [
  {
   "cell_type": "code",
   "execution_count": null,
   "id": "38b4e419",
   "metadata": {},
   "outputs": [],
   "source": [
    "\"\"\"\n",
    "Write a python program that, given an input list, will filter the input above a user defined threshold. \n",
    "This is to be done with a standard function.\n",
    "That is, given a list [1,2,3,4,5,6,7,8,9], and an argument (6), it should return [1,2,3,4,5,6]\n",
    "\"\"\""
   ]
  },
  {
   "cell_type": "code",
   "execution_count": 25,
   "id": "2a220759",
   "metadata": {},
   "outputs": [
    {
     "name": "stdout",
     "output_type": "stream",
     "text": [
      "list: [1, 2, 3, 4, 5, 6, 7, 8, 9]\n",
      "threshold: 6\n"
     ]
    }
   ],
   "source": [
    "#insert a list and a threshold\n",
    "input_list=[1,2,3,4,5,6,7,8,9]\n",
    "threshold=6\n",
    "print(\"list:\",input_list)\n",
    "print(\"threshold:\",threshold)"
   ]
  },
  {
   "cell_type": "code",
   "execution_count": 33,
   "id": "e43569f5",
   "metadata": {},
   "outputs": [],
   "source": [
    "#make a standard function will filter the input above a user defined threshold\n",
    "def filter_function(input_list, threshold):\n",
    "    filter_list=[]\n",
    "    for x in input_list: \n",
    "        if x <= threshold:\n",
    "            filter_list.append(x)\n",
    "    return(filter_list)\n",
    "    "
   ]
  },
  {
   "cell_type": "code",
   "execution_count": 34,
   "id": "4a8ccc23",
   "metadata": {},
   "outputs": [
    {
     "name": "stdout",
     "output_type": "stream",
     "text": [
      "[1, 2, 3, 4, 5, 6]\n"
     ]
    }
   ],
   "source": [
    "print(filter_function(input_list,threshold))"
   ]
  }
 ],
 "metadata": {
  "kernelspec": {
   "display_name": "bmifall2025",
   "language": "python",
   "name": "python3"
  },
  "language_info": {
   "codemirror_mode": {
    "name": "ipython",
    "version": 3
   },
   "file_extension": ".py",
   "mimetype": "text/x-python",
   "name": "python",
   "nbconvert_exporter": "python",
   "pygments_lexer": "ipython3",
   "version": "3.13.5"
  }
 },
 "nbformat": 4,
 "nbformat_minor": 5
}
